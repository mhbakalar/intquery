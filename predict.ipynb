{
 "cells": [
  {
   "cell_type": "code",
   "execution_count": 1,
   "metadata": {},
   "outputs": [],
   "source": [
    "import pandas as pd\n",
    "import numpy as np\n",
    "import torch\n",
    "from model import *"
   ]
  },
  {
   "cell_type": "code",
   "execution_count": 11,
   "metadata": {},
   "outputs": [
    {
     "data": {
      "text/plain": [
       "array(['CTTTTAACTCTTATAGGGATCANNCAGCTTTTTTGTCTTTAAATAT',\n",
       "       'ACTTTACAAAGGCGATTTTAAGNNCCTGTCTCAAAAACAAACAAAC',\n",
       "       'AGGCTGCGTAAGGAGCCCCGGCNNAATGTGTGCTGAGACCAACACA', ...,\n",
       "       'TATGAAATATATACTTCCCCCTNNGATATTTTGAAAAAAAATCTTC',\n",
       "       'GTGGAAAGCTATCTGCTACATTNNAGGAAGTTAGCAAAATGTTGAT',\n",
       "       'NNNNNNNNNNNNNNNNNNNNNNNNNNNNNNNNNNNNNNNNNNNNNN'], dtype='<U46')"
      ]
     },
     "execution_count": 11,
     "metadata": {},
     "output_type": "execute_result"
    }
   ],
   "source": [
    "# Input sequences for prediction\n",
    "test_file_path = 'data/decoys.csv'\n",
    "X_test = pd.read_csv(test_file_path)['seq'].values\n",
    "\n",
    "# Optionally mask the central dinucleotides\n",
    "X_test = np.array([seq[:22] + 'NN' + seq[24:] for seq in X_test])\n",
    "\n",
    "X_test"
   ]
  },
  {
   "cell_type": "code",
   "execution_count": 16,
   "metadata": {},
   "outputs": [],
   "source": [
    "# Predict using a pre-trained model\n",
    "\n",
    "# Load the test data\n",
    "seq_length = 46\n",
    "\n",
    "# Load the pre-trained model\n",
    "hidden_sizes = [200, 200]\n",
    "input_size = seq_length * 5  # 4 bases + N, one-hot encoded\n",
    "output_size = 1\n",
    "model = MLP(input_size, hidden_sizes, output_size)\n",
    "\n",
    "# Load the pre-trained model weights\n",
    "model.load_state_dict(torch.load('weights/200_200_mlp.pt'))\n",
    "model.eval()  # Set the model to evaluation mode\n",
    "\n",
    "# Make predictions\n",
    "y_pred = eval_model(model, X_test, batch_size=32)\n",
    "\n",
    "# Optionally, save the predictions to a file\n",
    "df = pd.DataFrame({'seq':X_test, 'pred':y_pred})\n",
    "df.to_csv('output/predictions.csv', index=False)"
   ]
  }
 ],
 "metadata": {
  "kernelspec": {
   "display_name": "base",
   "language": "python",
   "name": "python3"
  },
  "language_info": {
   "codemirror_mode": {
    "name": "ipython",
    "version": 3
   },
   "file_extension": ".py",
   "mimetype": "text/x-python",
   "name": "python",
   "nbconvert_exporter": "python",
   "pygments_lexer": "ipython3",
   "version": "3.11.3"
  }
 },
 "nbformat": 4,
 "nbformat_minor": 2
}
