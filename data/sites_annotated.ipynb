{
 "cells": [
  {
   "cell_type": "code",
   "execution_count": null,
   "metadata": {},
   "outputs": [],
   "source": [
    "import pandas as pd\n",
    "import numpy as np\n",
    "import matplotlib.pyplot as plt\n",
    "import matplotlib.colors as mcolors"
   ]
  },
  {
   "cell_type": "code",
   "execution_count": null,
   "metadata": {},
   "outputs": [],
   "source": [
    "data = []\n",
    "for excel_file in ['CTB043.sites.annotated.xlsx', 'CTB058.sites.annotated.xlsx']:\n",
    "    # Read all sheets from both Excel files\n",
    "    sheet_dict_1 = pd.read_excel(excel_file, sheet_name=None)\n",
    "\n",
    "    # Drop 'sites_collated' and 'genes' from sheet_dict\n",
    "    sheet_dict = {key: value for key, value in sheet_dict_1.items() if key not in ['sites_collated', 'genes', 'NC'] and 'A315R' not in key}\n",
    "\n",
    "    # Concatenate all sheets into a single DataFrame\n",
    "    combined_df = pd.concat(sheet_dict.values(), ignore_index=True)\n",
    "    data.append(combined_df)\n",
    "\n",
    "df = pd.concat(data)\n",
    "\n",
    "# Select the specified columns\n",
    "selected_columns = ['reference_name', 'dinucleotide_position', 'strand', 'attachment_site', 'genome_dinucleotide', 'seq_start', 'seq_end', 'count', 'seq']\n",
    "\n",
    "# Create a new DataFrame with only the selected columns. Keep only canonical recombination.\n",
    "df = df[df['recombination'] == 'canonical']\n",
    "df = df[selected_columns]"
   ]
  },
  {
   "cell_type": "code",
   "execution_count": null,
   "metadata": {},
   "outputs": [],
   "source": [
    "# Group by genomic coordinates and take the mean of count, ignoring strand\n",
    "df_deduped = df.groupby(['reference_name', 'seq_start', 'seq_end']).agg({\n",
    "    'count': 'mean',\n",
    "    'seq': 'first',\n",
    "    'genome_dinucleotide': 'first'\n",
    "}).reset_index()"
   ]
  },
  {
   "cell_type": "code",
   "execution_count": null,
   "metadata": {},
   "outputs": [],
   "source": [
    "# Save data\n",
    "df_deduped.to_csv('train.csv', index=False)"
   ]
  }
 ],
 "metadata": {
  "language_info": {
   "name": "python"
  }
 },
 "nbformat": 4,
 "nbformat_minor": 2
}
